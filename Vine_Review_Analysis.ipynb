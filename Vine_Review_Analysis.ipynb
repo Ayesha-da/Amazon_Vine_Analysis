{
  "nbformat": 4,
  "nbformat_minor": 0,
  "metadata": {
    "colab": {
      "name": "Vine_Review_Analysis.ipynb",
      "provenance": [],
      "collapsed_sections": []
    },
    "kernelspec": {
      "name": "python3",
      "display_name": "Python 3"
    },
    "language_info": {
      "name": "python"
    }
  },
  "cells": [
    {
      "cell_type": "code",
      "metadata": {
        "colab": {
          "base_uri": "https://localhost:8080/"
        },
        "id": "G8ZT6U156d7M",
        "outputId": "a4112f81-49ca-4473-bcbc-4cb3308e3ad1"
      },
      "source": [
        "import os\n",
        "# Find the latest version of spark 3.0 from http://www.apache.org/dist/spark/ and enter as the spark version\n",
        "# For example:\n",
        "# spark_version = 'spark-3.0.3'\n",
        "spark_version = 'spark-3.1.2'\n",
        "os.environ['SPARK_VERSION']=spark_version\n",
        "\n",
        "# Install Spark and Java\n",
        "!apt-get update\n",
        "!apt-get install openjdk-11-jdk-headless -qq > /dev/null\n",
        "!wget -q http://www.apache.org/dist/spark/$SPARK_VERSION/$SPARK_VERSION-bin-hadoop2.7.tgz\n",
        "!tar xf $SPARK_VERSION-bin-hadoop2.7.tgz\n",
        "!pip install -q findspark\n",
        "\n",
        "# Set Environment Variables\n",
        "import os\n",
        "os.environ[\"JAVA_HOME\"] = \"/usr/lib/jvm/java-11-openjdk-amd64\"\n",
        "os.environ[\"SPARK_HOME\"] = f\"/content/{spark_version}-bin-hadoop2.7\"\n",
        "\n",
        "# Start a SparkSession\n",
        "import findspark\n",
        "findspark.init()"
      ],
      "execution_count": 2,
      "outputs": [
        {
          "output_type": "stream",
          "name": "stdout",
          "text": [
            "\r0% [Working]\r            \rHit:1 http://archive.ubuntu.com/ubuntu bionic InRelease\n",
            "\r0% [Connecting to security.ubuntu.com (91.189.91.38)] [Connected to cloud.r-pro\r                                                                               \rGet:2 http://archive.ubuntu.com/ubuntu bionic-updates InRelease [88.7 kB]\n",
            "\r                                                                               \rGet:3 https://cloud.r-project.org/bin/linux/ubuntu bionic-cran40/ InRelease [3,626 B]\n",
            "\r0% [2 InRelease 47.5 kB/88.7 kB 54%] [Connecting to security.ubuntu.com (91.189\r0% [1 InRelease gpgv 242 kB] [2 InRelease 47.5 kB/88.7 kB 54%] [Connecting to s\r0% [1 InRelease gpgv 242 kB] [Waiting for headers] [Connecting to security.ubun\r                                                                               \rGet:4 http://archive.ubuntu.com/ubuntu bionic-backports InRelease [74.6 kB]\n",
            "\r0% [1 InRelease gpgv 242 kB] [4 InRelease 8,396 B/74.6 kB 11%] [Connecting to s\r0% [1 InRelease gpgv 242 kB] [Connecting to security.ubuntu.com (91.189.91.38)]\r                                                                               \rGet:5 http://ppa.launchpad.net/c2d4u.team/c2d4u4.0+/ubuntu bionic InRelease [15.9 kB]\n",
            "\r0% [1 InRelease gpgv 242 kB] [Waiting for headers] [5 InRelease 2,572 B/15.9 kB\r0% [1 InRelease gpgv 242 kB] [Waiting for headers] [Connecting to ppa.launchpad\r                                                                               \rHit:6 http://ppa.launchpad.net/cran/libgit2/ubuntu bionic InRelease\n",
            "\r                                                                               \r0% [1 InRelease gpgv 242 kB] [Waiting for headers] [Waiting for headers]\r                                                                        \rHit:7 http://ppa.launchpad.net/deadsnakes/ppa/ubuntu bionic InRelease\n",
            "\r0% [1 InRelease gpgv 242 kB] [Waiting for headers] [Connecting to ppa.launchpad\r                                                                               \rGet:8 http://security.ubuntu.com/ubuntu bionic-security InRelease [88.7 kB]\n",
            "Hit:9 http://ppa.launchpad.net/graphics-drivers/ppa/ubuntu bionic InRelease\n",
            "Ign:10 https://developer.download.nvidia.com/compute/cuda/repos/ubuntu1804/x86_64  InRelease\n",
            "Ign:11 https://developer.download.nvidia.com/compute/machine-learning/repos/ubuntu1804/x86_64  InRelease\n",
            "Hit:12 https://developer.download.nvidia.com/compute/cuda/repos/ubuntu1804/x86_64  Release\n",
            "Hit:13 https://developer.download.nvidia.com/compute/machine-learning/repos/ubuntu1804/x86_64  Release\n",
            "Get:14 https://cloud.r-project.org/bin/linux/ubuntu bionic-cran40/ Packages [67.4 kB]\n",
            "Get:15 http://archive.ubuntu.com/ubuntu bionic-updates/main amd64 Packages [2,770 kB]\n",
            "Get:16 http://archive.ubuntu.com/ubuntu bionic-updates/universe amd64 Packages [2,202 kB]\n",
            "Get:17 http://archive.ubuntu.com/ubuntu bionic-updates/restricted amd64 Packages [613 kB]\n",
            "Get:18 http://ppa.launchpad.net/c2d4u.team/c2d4u4.0+/ubuntu bionic/main Sources [1,802 kB]\n",
            "Get:19 http://ppa.launchpad.net/c2d4u.team/c2d4u4.0+/ubuntu bionic/main amd64 Packages [922 kB]\n",
            "Get:22 http://security.ubuntu.com/ubuntu bionic-security/main amd64 Packages [2,335 kB]\n",
            "Get:23 http://security.ubuntu.com/ubuntu bionic-security/restricted amd64 Packages [581 kB]\n",
            "Get:24 http://security.ubuntu.com/ubuntu bionic-security/universe amd64 Packages [1,428 kB]\n",
            "Fetched 13.0 MB in 4s (3,316 kB/s)\n",
            "Reading package lists... Done\n"
          ]
        }
      ]
    },
    {
      "cell_type": "code",
      "metadata": {
        "id": "wlcoCfwQMP3Z"
      },
      "source": [
        "# Start Spark session\n",
        "from pyspark.sql import SparkSession\n",
        "spark = SparkSession.builder.appName(\"VineReviewFunctions\").getOrCreate()"
      ],
      "execution_count": 3,
      "outputs": []
    },
    {
      "cell_type": "code",
      "metadata": {
        "colab": {
          "base_uri": "https://localhost:8080/"
        },
        "id": "i0O3XYhAHJ0k",
        "outputId": "208124b4-b69b-4b53-edee-b30b4dfa4c37"
      },
      "source": [
        "from pyspark import SparkFiles\n",
        "url = \"https://s3.amazonaws.com/amazon-reviews-pds/tsv/amazon_reviews_us_Baby_v1_00.tsv.gz\"\n",
        "spark.sparkContext.addFile(url)\n",
        "df = spark.read.option(\"encoding\", \"UTF-8\").csv(SparkFiles.get(\"amazon_reviews_us_Baby_v1_00.tsv.gz\"), sep=\"\\t\", header=True, inferSchema=True)\n",
        "df"
      ],
      "execution_count": 4,
      "outputs": [
        {
          "output_type": "execute_result",
          "data": {
            "text/plain": [
              "DataFrame[marketplace: string, customer_id: int, review_id: string, product_id: string, product_parent: int, product_title: string, product_category: string, star_rating: int, helpful_votes: int, total_votes: int, vine: string, verified_purchase: string, review_headline: string, review_body: string, review_date: string]"
            ]
          },
          "metadata": {},
          "execution_count": 4
        }
      ]
    },
    {
      "cell_type": "code",
      "metadata": {
        "colab": {
          "base_uri": "https://localhost:8080/"
        },
        "id": "6tuwEXl7HJ4L",
        "outputId": "28206a4b-a11a-4fa0-b9f6-c8f4b2408c19"
      },
      "source": [
        "vine_df = df.select([\"review_id\",\"star_rating\",\"helpful_votes\",\"total_votes\",\"vine\",\"verified_purchase\"])\n",
        "vine_df.show()"
      ],
      "execution_count": 5,
      "outputs": [
        {
          "output_type": "stream",
          "name": "stdout",
          "text": [
            "+--------------+-----------+-------------+-----------+----+-----------------+\n",
            "|     review_id|star_rating|helpful_votes|total_votes|vine|verified_purchase|\n",
            "+--------------+-----------+-------------+-----------+----+-----------------+\n",
            "| R8EWA1OFT84NX|          5|            0|          0|   N|                Y|\n",
            "|R2JWY4YRQD4FOP|          5|            0|          0|   N|                N|\n",
            "| RL5ESX231LZ0B|          5|            0|          0|   N|                Y|\n",
            "| RRMS9ZWJ2KD08|          5|            0|          0|   N|                Y|\n",
            "|R14I3ZG5E6S7YM|          5|            0|          0|   N|                Y|\n",
            "|R13EPSFP5DODN5|          4|            0|          0|   N|                Y|\n",
            "| R6RBP4HTE67SY|          5|            0|          0|   N|                Y|\n",
            "|R15B3EU40RSU2W|          5|            0|          0|   N|                Y|\n",
            "| RP4DD53A4ZJA2|          5|            0|          0|   N|                Y|\n",
            "|R2C99DJEO4RZ4K|          5|            3|          4|   N|                Y|\n",
            "| REV51EW323H8W|          5|            0|          0|   N|                Y|\n",
            "|R2GQ3W03WIUZKE|          5|            0|          0|   N|                Y|\n",
            "| RTI1YI7K6GE3D|          5|            0|          0|   N|                Y|\n",
            "|R3V9C2C0SPSZU6|          5|            0|          0|   N|                Y|\n",
            "|R1LB42XCSSCLV6|          5|            0|          0|   N|                Y|\n",
            "|R113NWCW6STTMC|          5|            0|          0|   N|                Y|\n",
            "| RWRN5XK337N41|          1|            0|          0|   N|                N|\n",
            "| RF4WL3QEP3PVI|          1|            0|          0|   N|                Y|\n",
            "|R2DRL5NRODVQ3Z|          5|            2|          2|   N|                Y|\n",
            "|R3T9B92MDDHKMM|          2|            5|          5|   N|                Y|\n",
            "+--------------+-----------+-------------+-----------+----+-----------------+\n",
            "only showing top 20 rows\n",
            "\n"
          ]
        }
      ]
    },
    {
      "cell_type": "code",
      "metadata": {
        "colab": {
          "base_uri": "https://localhost:8080/"
        },
        "id": "-Wnq57h3U4ju",
        "outputId": "63e7b190-ff6f-40aa-e82b-af4dfb3444cc"
      },
      "source": [
        "vine_df.dropna()"
      ],
      "execution_count": 6,
      "outputs": [
        {
          "output_type": "execute_result",
          "data": {
            "text/plain": [
              "DataFrame[review_id: string, star_rating: int, helpful_votes: int, total_votes: int, vine: string, verified_purchase: string]"
            ]
          },
          "metadata": {},
          "execution_count": 6
        }
      ]
    },
    {
      "cell_type": "code",
      "metadata": {
        "colab": {
          "base_uri": "https://localhost:8080/"
        },
        "id": "eDTRz7skTmfw",
        "outputId": "7c42e6cf-c175-45dc-eb7c-f7673de948ba"
      },
      "source": [
        "print(vine_df.count())"
      ],
      "execution_count": 7,
      "outputs": [
        {
          "output_type": "stream",
          "name": "stdout",
          "text": [
            "1752932\n"
          ]
        }
      ]
    },
    {
      "cell_type": "code",
      "metadata": {
        "colab": {
          "base_uri": "https://localhost:8080/"
        },
        "id": "QprEgcRAHJ7p",
        "outputId": "fa05e283-5f0b-46d3-c406-0aa606f968a1"
      },
      "source": [
        "# create a new DataFrame or table to retrieve all the rows where the total_votes count is equal to or greater than 20 \n",
        "totalvotes_df = vine_df.filter(\"total_votes>=20\")\n",
        "totalvotes_df.show()\n",
        "print(totalvotes_df.count())"
      ],
      "execution_count": 8,
      "outputs": [
        {
          "output_type": "stream",
          "name": "stdout",
          "text": [
            "+--------------+-----------+-------------+-----------+----+-----------------+\n",
            "|     review_id|star_rating|helpful_votes|total_votes|vine|verified_purchase|\n",
            "+--------------+-----------+-------------+-----------+----+-----------------+\n",
            "| ROI00QN8IS49I|          5|           83|         91|   N|                N|\n",
            "|R13C5INE1RTZP6|          2|           26|         26|   N|                Y|\n",
            "| RXVMMXCL67MZN|          4|          378|        383|   N|                Y|\n",
            "|R33JJQWAUYBKD3|          5|          270|        280|   N|                Y|\n",
            "|R3N0XV9267NOXV|          5|           41|         47|   Y|                N|\n",
            "|R31HQD6YXSQV1W|          3|           40|         48|   N|                Y|\n",
            "|R33LQSF958O6K8|          5|           39|         41|   N|                Y|\n",
            "|R3OIDSQJ84W7J1|          5|           21|         24|   N|                N|\n",
            "|R3UUR313K5VVTL|          1|            1|         24|   N|                Y|\n",
            "| RODE8K12S7148|          5|           41|         45|   N|                Y|\n",
            "|R2QZFYFUKP22SP|          5|           33|         37|   N|                Y|\n",
            "| RFON10GAZKDL3|          3|           16|         20|   N|                Y|\n",
            "|R2UXKAUFMPE0PJ|          1|           29|         29|   N|                N|\n",
            "|R20YYYGIRVB7F1|          1|           32|         41|   N|                N|\n",
            "|R36065K853ACRA|          3|           28|         34|   N|                Y|\n",
            "| RBS6RYHXL83L8|          5|           49|         57|   N|                Y|\n",
            "|R2D5JAVXATJOQB|          4|           45|         48|   N|                Y|\n",
            "|R1SUS9Y51N3QO8|          1|           42|         46|   N|                N|\n",
            "|R3DKDS7674IU4Z|          5|           29|         31|   N|                N|\n",
            "|R3VER1GSR74AHB|          4|           38|         39|   N|                Y|\n",
            "+--------------+-----------+-------------+-----------+----+-----------------+\n",
            "only showing top 20 rows\n",
            "\n",
            "27389\n"
          ]
        }
      ]
    },
    {
      "cell_type": "code",
      "metadata": {
        "colab": {
          "base_uri": "https://localhost:8080/"
        },
        "id": "5t6CTAo9HJ-r",
        "outputId": "808f7896-81c0-4063-bf4c-397db9bbf86c"
      },
      "source": [
        "# create a new DataFrame or table to retrieve all the rows where the number of helpful_votes divided by total_votes is equal to or greater than 50%\n",
        "helpful_df = totalvotes_df.filter(\"helpful_votes/total_votes>=.50\")\n",
        "helpful_df.show()\n",
        "print(helpful_df.count())"
      ],
      "execution_count": 9,
      "outputs": [
        {
          "output_type": "stream",
          "name": "stdout",
          "text": [
            "+--------------+-----------+-------------+-----------+----+-----------------+\n",
            "|     review_id|star_rating|helpful_votes|total_votes|vine|verified_purchase|\n",
            "+--------------+-----------+-------------+-----------+----+-----------------+\n",
            "| ROI00QN8IS49I|          5|           83|         91|   N|                N|\n",
            "|R13C5INE1RTZP6|          2|           26|         26|   N|                Y|\n",
            "| RXVMMXCL67MZN|          4|          378|        383|   N|                Y|\n",
            "|R33JJQWAUYBKD3|          5|          270|        280|   N|                Y|\n",
            "|R3N0XV9267NOXV|          5|           41|         47|   Y|                N|\n",
            "|R31HQD6YXSQV1W|          3|           40|         48|   N|                Y|\n",
            "|R33LQSF958O6K8|          5|           39|         41|   N|                Y|\n",
            "|R3OIDSQJ84W7J1|          5|           21|         24|   N|                N|\n",
            "| RODE8K12S7148|          5|           41|         45|   N|                Y|\n",
            "|R2QZFYFUKP22SP|          5|           33|         37|   N|                Y|\n",
            "| RFON10GAZKDL3|          3|           16|         20|   N|                Y|\n",
            "|R2UXKAUFMPE0PJ|          1|           29|         29|   N|                N|\n",
            "|R20YYYGIRVB7F1|          1|           32|         41|   N|                N|\n",
            "|R36065K853ACRA|          3|           28|         34|   N|                Y|\n",
            "| RBS6RYHXL83L8|          5|           49|         57|   N|                Y|\n",
            "|R2D5JAVXATJOQB|          4|           45|         48|   N|                Y|\n",
            "|R1SUS9Y51N3QO8|          1|           42|         46|   N|                N|\n",
            "|R3DKDS7674IU4Z|          5|           29|         31|   N|                N|\n",
            "|R3VER1GSR74AHB|          4|           38|         39|   N|                Y|\n",
            "| R4KKILPJRQ2J5|          1|           12|         20|   N|                Y|\n",
            "+--------------+-----------+-------------+-----------+----+-----------------+\n",
            "only showing top 20 rows\n",
            "\n",
            "25557\n"
          ]
        }
      ]
    },
    {
      "cell_type": "code",
      "metadata": {
        "colab": {
          "base_uri": "https://localhost:8080/"
        },
        "id": "25X5F0C6Qf7W",
        "outputId": "9af02c4b-2525-4509-bdf2-2a86f81895fc"
      },
      "source": [
        "# create a new DataFrame or table that retrieves all the rows where a review was written as part of the Vine program (paid)\n",
        "vine_paid_review = helpful_df.filter(helpful_df[\"vine\"] == \"Y\")\n",
        "vine_paid_review.show()\n",
        "print(vine_paid_review.count())"
      ],
      "execution_count": 10,
      "outputs": [
        {
          "output_type": "stream",
          "name": "stdout",
          "text": [
            "+--------------+-----------+-------------+-----------+----+-----------------+\n",
            "|     review_id|star_rating|helpful_votes|total_votes|vine|verified_purchase|\n",
            "+--------------+-----------+-------------+-----------+----+-----------------+\n",
            "|R3N0XV9267NOXV|          5|           41|         47|   Y|                N|\n",
            "| RSA6JQ346JZHZ|          5|           55|         64|   Y|                Y|\n",
            "|R1FXF4HRMCLG4C|          5|           69|         84|   Y|                N|\n",
            "| RCTBWC3II42MG|          4|          113|        117|   Y|                N|\n",
            "| RTMQM2CQ1XIZ0|          5|           21|         25|   Y|                N|\n",
            "|R2CBJLCKQ612KU|          4|           27|         35|   Y|                N|\n",
            "|R322QDGO4AV2B5|          5|           55|         65|   Y|                N|\n",
            "| R2S7CXRDGQ6EE|          4|           36|         39|   Y|                N|\n",
            "|R3ECMXK0SGR1VV|          5|           59|         64|   Y|                N|\n",
            "|R3D55CPJ6J6Z78|          4|           15|         20|   Y|                N|\n",
            "|R1Y9OYIUCP3WD2|          4|           20|         20|   Y|                N|\n",
            "| RT8AV0IB2PGHH|          4|          108|        132|   Y|                N|\n",
            "|R2RLHJRJD9B0NX|          3|           44|         47|   Y|                N|\n",
            "| RAPD7IX0LPZ10|          4|           36|         37|   Y|                N|\n",
            "|R37QPCBNR07PPR|          1|           22|         27|   Y|                N|\n",
            "|R3BRFPK8N59XPY|          5|          364|        395|   Y|                N|\n",
            "|R1WE59I775L7L9|          4|           31|         33|   Y|                N|\n",
            "| RO8IGQJV1PKCJ|          5|           78|         84|   Y|                N|\n",
            "| RWZDJT9MQP6A4|          5|           86|         97|   Y|                N|\n",
            "|R2VDXEVKFSJU36|          5|           20|         22|   Y|                N|\n",
            "+--------------+-----------+-------------+-----------+----+-----------------+\n",
            "only showing top 20 rows\n",
            "\n",
            "463\n"
          ]
        }
      ]
    },
    {
      "cell_type": "code",
      "metadata": {
        "colab": {
          "base_uri": "https://localhost:8080/"
        },
        "id": "PbOlnVq8Qf_f",
        "outputId": "fec7e835-adc1-4d85-dbd1-6ee8c4ac325f"
      },
      "source": [
        "# create a new DataFrame or table that retrieves all the rows where a review was not part of the Vine program (unpaid)\n",
        "vine_unpaid_review=helpful_df.filter(helpful_df[\"vine\"] == \"N\")\n",
        "vine_unpaid_review.show()\n",
        "print(vine_unpaid_review.count())"
      ],
      "execution_count": 11,
      "outputs": [
        {
          "output_type": "stream",
          "name": "stdout",
          "text": [
            "+--------------+-----------+-------------+-----------+----+-----------------+\n",
            "|     review_id|star_rating|helpful_votes|total_votes|vine|verified_purchase|\n",
            "+--------------+-----------+-------------+-----------+----+-----------------+\n",
            "| ROI00QN8IS49I|          5|           83|         91|   N|                N|\n",
            "|R13C5INE1RTZP6|          2|           26|         26|   N|                Y|\n",
            "| RXVMMXCL67MZN|          4|          378|        383|   N|                Y|\n",
            "|R33JJQWAUYBKD3|          5|          270|        280|   N|                Y|\n",
            "|R31HQD6YXSQV1W|          3|           40|         48|   N|                Y|\n",
            "|R33LQSF958O6K8|          5|           39|         41|   N|                Y|\n",
            "|R3OIDSQJ84W7J1|          5|           21|         24|   N|                N|\n",
            "| RODE8K12S7148|          5|           41|         45|   N|                Y|\n",
            "|R2QZFYFUKP22SP|          5|           33|         37|   N|                Y|\n",
            "| RFON10GAZKDL3|          3|           16|         20|   N|                Y|\n",
            "|R2UXKAUFMPE0PJ|          1|           29|         29|   N|                N|\n",
            "|R20YYYGIRVB7F1|          1|           32|         41|   N|                N|\n",
            "|R36065K853ACRA|          3|           28|         34|   N|                Y|\n",
            "| RBS6RYHXL83L8|          5|           49|         57|   N|                Y|\n",
            "|R2D5JAVXATJOQB|          4|           45|         48|   N|                Y|\n",
            "|R1SUS9Y51N3QO8|          1|           42|         46|   N|                N|\n",
            "|R3DKDS7674IU4Z|          5|           29|         31|   N|                N|\n",
            "|R3VER1GSR74AHB|          4|           38|         39|   N|                Y|\n",
            "| R4KKILPJRQ2J5|          1|           12|         20|   N|                Y|\n",
            "| RE1XO71W5US5S|          1|           28|         30|   N|                Y|\n",
            "+--------------+-----------+-------------+-----------+----+-----------------+\n",
            "only showing top 20 rows\n",
            "\n",
            "25094\n"
          ]
        }
      ]
    },
    {
      "cell_type": "code",
      "metadata": {
        "colab": {
          "base_uri": "https://localhost:8080/"
        },
        "id": "Y9pszccKQgDQ",
        "outputId": "578de8c5-08db-4e82-a5b5-55f25a8d5a31"
      },
      "source": [
        "# Determine the total number of reviews\n",
        "vine_review_count=helpful_df.count()\n",
        "print(\"Total number of helpful reviews : % .0f\" %  vine_review_count)"
      ],
      "execution_count": 12,
      "outputs": [
        {
          "output_type": "stream",
          "name": "stdout",
          "text": [
            "Total number of helpful reviews :  25557\n"
          ]
        }
      ]
    },
    {
      "cell_type": "code",
      "metadata": {
        "colab": {
          "base_uri": "https://localhost:8080/"
        },
        "id": "UgI6ALWuMzX3",
        "outputId": "c30a2138-ec95-49c0-823c-9e174d24a682"
      },
      "source": [
        "#  Determine total number of paid vine reviews\n",
        "paid_review_count = helpful_df.filter(helpful_df[\"vine\"] == \"Y\")\n",
        "print(\"Total number of  vine reviews :  % .0f\" % paid_review_count.count())"
      ],
      "execution_count": 22,
      "outputs": [
        {
          "output_type": "stream",
          "name": "stdout",
          "text": [
            "Total number of  vine reviews :   463\n"
          ]
        }
      ]
    },
    {
      "cell_type": "code",
      "metadata": {
        "colab": {
          "base_uri": "https://localhost:8080/"
        },
        "id": "AwjITID3MzgZ",
        "outputId": "8396bb3d-d8f0-4085-a197-a484b6c93a0a"
      },
      "source": [
        "# Determine total number of  unpaid reviews\n",
        "unpaid_review_count = helpful_df.filter(helpful_df[\"vine\"] == \"N\")\n",
        "print(\"Total number of  unpaid  reviews :  % .0f\" % unpaid_review_count.count())"
      ],
      "execution_count": 23,
      "outputs": [
        {
          "output_type": "stream",
          "name": "stdout",
          "text": [
            "Total number of  unpaid  reviews :   25094\n"
          ]
        }
      ]
    },
    {
      "cell_type": "code",
      "metadata": {
        "colab": {
          "base_uri": "https://localhost:8080/"
        },
        "id": "mH1RJp2PYwWb",
        "outputId": "722660ee-e236-4eb7-cdba-924cb20723f3"
      },
      "source": [
        "# Determine total number of 5 star review\n",
        "star_review = helpful_df.filter(helpful_df[\"star_rating\"]==\"5\")\n",
        "print(\"Total number of 5-star :  % .0f\" % star_review.count())"
      ],
      "execution_count": 17,
      "outputs": [
        {
          "output_type": "stream",
          "name": "stdout",
          "text": [
            "Total number of 5-star :   12235\n"
          ]
        }
      ]
    },
    {
      "cell_type": "code",
      "metadata": {
        "colab": {
          "base_uri": "https://localhost:8080/"
        },
        "id": "7LuUvRcZYwcx",
        "outputId": "ef647616-bfe3-42ee-da58-3755d4b9b60b"
      },
      "source": [
        "# Determine total number of 5 star paid reviews\n",
        "paid_review = star_review.filter(star_review[\"vine\"] == \"Y\")\n",
        "print(\"Total number of 5-star paid vine reviews :  % .0f\" % paid_review.count())"
      ],
      "execution_count": 18,
      "outputs": [
        {
          "output_type": "stream",
          "name": "stdout",
          "text": [
            "Total number of 5-star paid vine reviews :   202\n"
          ]
        }
      ]
    },
    {
      "cell_type": "code",
      "metadata": {
        "colab": {
          "base_uri": "https://localhost:8080/"
        },
        "id": "geRfrvBgYwjr",
        "outputId": "b0bedf1d-6a25-4ffc-f8f5-bae864cd7f4f"
      },
      "source": [
        "# Determine total number of 5 star unpaid reviews\n",
        "unpaid_review= star_review.filter(star_review[\"vine\"]==\"N\")\n",
        "print(\"Total number of 5-star unpaid reviews :  % .0f\" % unpaid_review.count())\n"
      ],
      "execution_count": 19,
      "outputs": [
        {
          "output_type": "stream",
          "name": "stdout",
          "text": [
            "Total number of 5-star unpaid reviews :   12033\n"
          ]
        }
      ]
    },
    {
      "cell_type": "code",
      "metadata": {
        "colab": {
          "base_uri": "https://localhost:8080/"
        },
        "id": "kMFJe--cdBUF",
        "outputId": "da49406d-af29-4094-89a0-94c35c4e7b63"
      },
      "source": [
        "# Determine percentage of paid reviews\n",
        "percent_paid_review= paid_review.count()/star_review.count()\n",
        "print(\"Percentage of 5-star paid vine reviews :  %f\" % percent_paid_review)"
      ],
      "execution_count": 20,
      "outputs": [
        {
          "output_type": "stream",
          "name": "stdout",
          "text": [
            "Percentage of 5-star paid vine reviews :  0.016510\n"
          ]
        }
      ]
    },
    {
      "cell_type": "code",
      "metadata": {
        "colab": {
          "base_uri": "https://localhost:8080/"
        },
        "id": "MmapENLadBeS",
        "outputId": "4b212bfb-cd6e-43f4-f542-8bc73a43984b"
      },
      "source": [
        "# Determine percentage of unpaid reviews\n",
        "percent_unpaid_review= unpaid_review.count()/star_review.count()\n",
        "print(\"Percentage of 5-star unpaid reviews :  %f\" % percent_unpaid_review)"
      ],
      "execution_count": 21,
      "outputs": [
        {
          "output_type": "stream",
          "name": "stdout",
          "text": [
            "Percentage of 5-star unpaid reviews :  0.983490\n"
          ]
        }
      ]
    }
  ]
}